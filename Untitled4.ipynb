{
  "nbformat": 4,
  "nbformat_minor": 0,
  "metadata": {
    "colab": {
      "provenance": [],
      "authorship_tag": "ABX9TyPTqGA1EUKJqfff0rE32aPb",
      "include_colab_link": true
    },
    "kernelspec": {
      "name": "python3",
      "display_name": "Python 3"
    },
    "language_info": {
      "name": "python"
    }
  },
  "cells": [
    {
      "cell_type": "markdown",
      "metadata": {
        "id": "view-in-github",
        "colab_type": "text"
      },
      "source": [
        "<a href=\"https://colab.research.google.com/github/Dcanbolat/miniOrumcek/blob/main/Untitled4.ipynb\" target=\"_parent\"><img src=\"https://colab.research.google.com/assets/colab-badge.svg\" alt=\"Open In Colab\"/></a>"
      ]
    },
    {
      "cell_type": "code",
      "execution_count": 1,
      "metadata": {
        "colab": {
          "base_uri": "https://localhost:8080/"
        },
        "id": "QG0wcpbMv4NA",
        "outputId": "1c95a2f8-f8d9-4b82-d4f7-af01be7bc336"
      },
      "outputs": [
        {
          "output_type": "stream",
          "name": "stdout",
          "text": [
            "XML dosyası başarıyla oluşturuldu!\n"
          ]
        }
      ],
      "source": [
        "import xml.etree.ElementTree as ET\n",
        "\n",
        "# 1. Kök eleman oluştur\n",
        "root = ET.Element(\"resources\")\n",
        "\n",
        "# 2. Bir kaynak (resource) ekle\n",
        "resource = ET.SubElement(root, \"resource\")\n",
        "ET.SubElement(resource, \"title\").text = \"Python Eğitimi\"\n",
        "ET.SubElement(resource, \"subject\").text = \"Programlama\"\n",
        "ET.SubElement(resource, \"description\").text = \"Python diline giriş rehberi.\"\n",
        "ET.SubElement(resource, \"creator\").text = \"Ali Veli\"\n",
        "ET.SubElement(resource, \"license\").text = \"CC-BY-SA\"\n",
        "ET.SubElement(resource, \"language\").text = \"Türkçe\"\n",
        "ET.SubElement(resource, \"identifier\").text = \"https://example.com/python-egitimi\"\n",
        "\n",
        "# 3. XML dosyasını kaydet\n",
        "tree = ET.ElementTree(root)\n",
        "with open(\"oer_metadata.xml\", \"wb\") as file:\n",
        "    tree.write(file)\n",
        "\n",
        "print(\"XML dosyası başarıyla oluşturuldu!\")"
      ]
    }
  ]
}