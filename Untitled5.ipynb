{
  "nbformat": 4,
  "nbformat_minor": 0,
  "metadata": {
    "colab": {
      "provenance": [],
      "mount_file_id": "1AbGYCyFr0uwYu_becU7iOHqlPp72lmO3",
      "authorship_tag": "ABX9TyMSq34PrMkYq2xdUNHtdAID",
      "include_colab_link": true
    },
    "kernelspec": {
      "name": "python3",
      "display_name": "Python 3"
    },
    "language_info": {
      "name": "python"
    }
  },
  "cells": [
    {
      "cell_type": "markdown",
      "metadata": {
        "id": "view-in-github",
        "colab_type": "text"
      },
      "source": [
        "<a href=\"https://colab.research.google.com/github/Dcanbolat/miniOrumcek/blob/main/Untitled5.ipynb\" target=\"_parent\"><img src=\"https://colab.research.google.com/assets/colab-badge.svg\" alt=\"Open In Colab\"/></a>"
      ]
    },
    {
      "cell_type": "code",
      "execution_count": 5,
      "metadata": {
        "colab": {
          "base_uri": "https://localhost:8080/"
        },
        "id": "jNAJxxP5pZd9",
        "outputId": "c989aef3-16da-4dd3-f1e0-36471d0248ec"
      },
      "outputs": [
        {
          "output_type": "stream",
          "name": "stdout",
          "text": [
            "Birden fazla kaynak içeren XML dosyası başarıyla oluşturuldu!\n"
          ]
        }
      ],
      "source": [
        "resources_data = [\n",
        "    {\n",
        "        \"title\": \"Python Eğitimi\",\n",
        "        \"subject\": \"Programlama\",\n",
        "        \"description\": \"Python diline giriş rehberi.\",\n",
        "        \"creator\": \"Ali Veli\",\n",
        "        \"license\": \"CC-BY-SA\",\n",
        "        \"language\": \"Türkçe\",\n",
        "        \"identifier\": \"https://example.com/python-egitimi\"\n",
        "    },\n",
        "    {\n",
        "        \"title\": \"Veri Bilimi Rehberi\",\n",
        "        \"subject\": \"Veri Bilimi\",\n",
        "        \"description\": \"Veri bilimine giriş kitabı.\",\n",
        "        \"creator\": \"Ayşe Fatma\",\n",
        "        \"license\": \"CC-BY-NC\",\n",
        "        \"language\": \"Türkçe\",\n",
        "        \"identifier\": \"https://example.com/veri-bilimi\"\n",
        "    }\n",
        "]\n",
        "\n",
        "root = ET.Element(\"resources\")\n",
        "\n",
        "for data in resources_data:\n",
        "    resource = ET.SubElement(root, \"resource\")\n",
        "    for key, value in data.items():\n",
        "        ET.SubElement(resource, key).text = value\n",
        "\n",
        "tree = ET.ElementTree(root)\n",
        "with open(\"oer_metadata.xml\", \"wb\") as file:\n",
        "    tree.write(file)\n",
        "\n",
        "print(\"Birden fazla kaynak içeren XML dosyası başarıyla oluşturuldu!\")"
      ]
    }
  ]
}