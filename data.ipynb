{
  "nbformat": 4,
  "nbformat_minor": 0,
  "metadata": {
    "colab": {
      "provenance": [],
      "authorship_tag": "ABX9TyMqjYtw6pyxi7CPCc542HaD",
      "include_colab_link": true
    },
    "kernelspec": {
      "name": "python3",
      "display_name": "Python 3"
    },
    "language_info": {
      "name": "python"
    }
  },
  "cells": [
    {
      "cell_type": "markdown",
      "metadata": {
        "id": "view-in-github",
        "colab_type": "text"
      },
      "source": [
        "<a href=\"https://colab.research.google.com/github/Dcanbolat/miniOrumcek/blob/main/data.ipynb\" target=\"_parent\"><img src=\"https://colab.research.google.com/assets/colab-badge.svg\" alt=\"Open In Colab\"/></a>"
      ]
    },
    {
      "cell_type": "code",
      "execution_count": 12,
      "metadata": {
        "id": "8PEU6025XVIr"
      },
      "outputs": [],
      "source": [
        "import xml.etree.ElementTree as ET\n",
        "root = ET.Element(\"resources\")\n",
        "resource = ET.SubElement(root, \"resource\")\n",
        "ET.SubElement(resource, \"title\").text = \"Python Eğitimi\"\n",
        "ET.SubElement(resource, \"subject\").text = \"Programlama\"\n",
        "ET.SubElement(resource, \"description\").text = \"Python diline giriş rehberi.\"\n",
        "ET.SubElement(resource, \"creator\").text = \"Ali Veli\"\n",
        "ET.SubElement(resource, \"license\").text = \"CC-BY-SA\"\n",
        "ET.SubElement(resource, \"language\").text = \"Türkçe\"\n",
        "ET.SubElement(resource, \"identifier\").text = \"https://example.com/python-egitimi\"\n",
        "tree = ET.ElementTree(root)  # XML ağacını oluştur\n",
        "with open(\"oer_metadata.xml\", \"wb\") as file:  # 'wb' binary modda yazma\n",
        "    tree.write(file)  # XML'i dosyaya yaz"
      ]
    }
  ]
}